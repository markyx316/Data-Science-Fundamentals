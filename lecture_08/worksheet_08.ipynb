{
 "cells": [
  {
   "attachments": {},
   "cell_type": "markdown",
   "metadata": {},
   "source": [
    "# Worksheet 08\n",
    "\n",
    "Name: Youxuan Ma\n",
    "\n",
    "UID: U23330522\n",
    "\n",
    "### Topics\n",
    "\n",
    "- Soft Clustering\n",
    "- Clustering Aggregation\n",
    "\n",
    "### Probability Review\n",
    "\n",
    "Read through [the following](https://medium.com/@gallettilance/overview-of-probability-3272b72c82c8)\n",
    "\n",
    "### Soft Clustering\n",
    "\n",
    "We generate 10 data points that come from a normal distribution with mean 5 and variance 1."
   ]
  },
  {
   "cell_type": "code",
   "execution_count": 41,
   "metadata": {},
   "outputs": [
    {
     "name": "stdout",
     "output_type": "stream",
     "text": [
      "[5.304541683786297, 5.7690603350501615, 4.713737382068444, 3.8355802350023573, 3.538556623979286, 4.532538270478928, 5.2431143608773345, 6.205365331578056, 4.80581993462951, 4.777304664122473]\n"
     ]
    }
   ],
   "source": [
    "import random\n",
    "import numpy as np\n",
    "from sklearn.cluster import KMeans\n",
    "\n",
    "mean = 5\n",
    "stdev = 1\n",
    "\n",
    "s1 = np.random.normal(mean, stdev, 10).tolist()\n",
    "print(s1)"
   ]
  },
  {
   "cell_type": "markdown",
   "metadata": {},
   "source": [
    "a) Generate 10 more data points, this time coming from a normal distribution with mean 8 and variance 1."
   ]
  },
  {
   "cell_type": "code",
   "execution_count": 42,
   "metadata": {},
   "outputs": [
    {
     "name": "stdout",
     "output_type": "stream",
     "text": [
      "[7.616520655072516, 8.27167053719687, 9.49210031267588, 7.727777189157077, 8.091439530657986, 7.1395207186394956, 6.546647025697315, 8.234952780475739, 9.51539986467853, 8.932837127756494]\n"
     ]
    }
   ],
   "source": [
    "s2 = np.random.normal(8, 1, 10).tolist()\n",
    "print(s2)"
   ]
  },
  {
   "attachments": {},
   "cell_type": "markdown",
   "metadata": {},
   "source": [
    "b) Flip a fair coin 10 times. If the coin lands on H, then pick the last data point of `s1` and remove it from `s1`, if T then pick the last data point from `s2` and remove it from `s2`. Add these 10 points to a list called `data`."
   ]
  },
  {
   "cell_type": "code",
   "execution_count": 43,
   "metadata": {},
   "outputs": [
    {
     "name": "stdout",
     "output_type": "stream",
     "text": [
      "[4.777304664122473, 8.932837127756494, 9.51539986467853, 8.234952780475739, 6.546647025697315, 7.1395207186394956, 8.091439530657986, 4.80581993462951, 6.205365331578056, 7.727777189157077]\n"
     ]
    }
   ],
   "source": [
    "data = []\n",
    "for i in range(10):\n",
    "    # flip coin\n",
    "    coin_output = random.choice([0, 1])\n",
    "    if coin_output == 0:\n",
    "        p1 = s1.pop()\n",
    "        data.append(p1)\n",
    "    else:\n",
    "        p2 = s2.pop()\n",
    "        data.append(p2)\n",
    "print(data)"
   ]
  },
  {
   "cell_type": "markdown",
   "metadata": {},
   "source": [
    "c) This `data` is a Gaussian Mixture Distribution with 2 mixture components. Over the next few questions we will walk through the GMM algorithm to see if we can uncover the parameters we used to generate this data. First, please list all these parameters of the GMM that created `data` and the values we know they have."
   ]
  },
  {
   "cell_type": "markdown",
   "metadata": {},
   "source": [
    "Parameters of the GMM:\n",
    "\n",
    "- **Number of Mixture Components:** 2\n",
    "- **Mixture Weights:** $\\pi_1 = 0.5$, $\\pi_2 = 0.5$\n",
    "- **Means:** $\\mu_1 = 8$, $\\mu_2 = 5$\n",
    "- **Variances:** $\\sigma^2_1 = 1$, $\\sigma^2_2 = 1$"
   ]
  },
  {
   "cell_type": "markdown",
   "metadata": {},
   "source": [
    "d) Let's assume there are two mixture components (note: we could plot the data and make the observation that there are two clusters). The EM algorithm asks us to start with a random `mean_j`, `variance_j`, `P(S_j)` for each component j. One method we could use to find sensible values for these is to apply K means with k=2 here.\n",
    "\n",
    "1. the centroids would be the estimates of the `mean_j`\n",
    "2. the intra-cluster variance could be the estimate of `variance_j`\n",
    "3. the proportion of points in each cluster could be the estimate of `P(S_j)`\n",
    "\n",
    "Go through this process and list the parameter estimates it gives. Are they close or far from the true values?"
   ]
  },
  {
   "cell_type": "code",
   "execution_count": 44,
   "metadata": {},
   "outputs": [
    {
     "name": "stdout",
     "output_type": "stream",
     "text": [
      "[8.932837127756494, 9.51539986467853, 8.234952780475739, 7.1395207186394956, 8.091439530657986, 7.727777189157077]\n",
      "[4.777304664122473, 6.546647025697315, 4.80581993462951, 6.205365331578056]\n",
      "P(S_1) = 0.6,  P(S_2) = 0.4\n",
      "mean_1 = 8.273654535227553,  mean_2 = 5.583784239006839\n",
      "var_1 = 0.5992324796831981,  var_2 = 0.6422763910565864\n"
     ]
    }
   ],
   "source": [
    "kmeans = KMeans(2, init='k-means++').fit(X=np.array(data).reshape(-1, 1))\n",
    "\n",
    "s1 = [x[0] for x in filter(lambda x: x[1] == 0, zip(data, kmeans.labels_))]\n",
    "print(s1)\n",
    "s2 = [x[0] for x in filter(lambda x: x[1] == 1, zip(data, kmeans.labels_))]\n",
    "print(s2)\n",
    "\n",
    "prob_s = [ len(s1) / (len(s1) + len(s2)) , len(s2) / (len(s1) + len(s2)) ]\n",
    "mean = [ sum(s1)/len(s1) , sum(s2)/len(s2) ]\n",
    "var = [np.var(s1, ddof=0), np.var(s2, ddof=0)]\n",
    "# var = [ sum(map(lambda x : (x - mean[0])**2, s1)) / len(s1) , sum(map(lambda x : (x - mean[1])**2, s2)) / len(s2) ]\n",
    "\n",
    "print(\"P(S_1) = \" + str(prob_s[0]) + \",  P(S_2) = \" + str(prob_s[1]))\n",
    "print(\"mean_1 = \" + str(mean[0]) + \",  mean_2 = \" + str(mean[1]))\n",
    "print(\"var_1 = \" + str(var[0]) + \",  var_2 = \" + str(var[1]))\n",
    "\n",
    "# yes"
   ]
  },
  {
   "cell_type": "markdown",
   "metadata": {},
   "source": [
    "The parameter estimates given by this process are fairly close to the true values overall, with only var_1 estimate being much lower than its true value."
   ]
  },
  {
   "cell_type": "markdown",
   "metadata": {},
   "source": [
    "e) For each data point, compute `P(S_j | X_i)`. Comment on which cluster you think each point belongs to based on the estimated probabilities. How does that compare to the truth?"
   ]
  },
  {
   "cell_type": "code",
   "execution_count": 45,
   "metadata": {},
   "outputs": [
    {
     "name": "stdout",
     "output_type": "stream",
     "text": [
      "point =  4.777304664122473\n",
      "probability of observing that point if it came from cluster 0 =  1.9154254449242817e-05\n",
      "probability of observing that point if it came from cluster 1 =  0.3000213691885735\n",
      "point =  8.932837127756494\n",
      "probability of observing that point if it came from cluster 0 =  0.3586347156002098\n",
      "probability of observing that point if it came from cluster 1 =  8.03487047062314e-05\n",
      "point =  9.51539986467853\n",
      "probability of observing that point if it came from cluster 0 =  0.14234887012900982\n",
      "probability of observing that point if it came from cluster 1 =  2.957932350095597e-06\n",
      "point =  8.234952780475739\n",
      "probability of observing that point if it came from cluster 0 =  0.5147183101560714\n",
      "probability of observing that point if it came from cluster 1 =  0.0020927509289660204\n",
      "point =  6.546647025697315\n",
      "probability of observing that point if it came from cluster 0 =  0.04278654319715471\n",
      "probability of observing that point if it came from cluster 1 =  0.2418823727038795\n",
      "point =  7.1395207186394956\n",
      "probability of observing that point if it came from cluster 0 =  0.17619894564913313\n",
      "probability of observing that point if it came from cluster 1 =  0.07564224193460989\n",
      "point =  8.091439530657986\n",
      "probability of observing that point if it came from cluster 0 =  0.5012803565311617\n",
      "probability of observing that point if it came from cluster 1 =  0.0037241376938155235\n",
      "point =  4.80581993462951\n",
      "probability of observing that point if it came from cluster 0 =  2.2606213955784987e-05\n",
      "probability of observing that point if it came from cluster 1 =  0.310761623728086\n",
      "point =  6.205365331578056\n",
      "probability of observing that point if it came from cluster 0 =  0.014518930892249782\n",
      "probability of observing that point if it came from cluster 1 =  0.36848820575831087\n",
      "point =  7.727777189157077\n",
      "probability of observing that point if it came from cluster 0 =  0.40191198184800453\n",
      "probability of observing that point if it came from cluster 1 =  0.013897885167027897\n",
      "4.777304664122473\n",
      "Probability of coming from S_1 = 9.57552809322844e-05\n",
      "Probability of coming from S_2 = 0.9999042447190677\n",
      "\n",
      "8.932837127756494\n",
      "Probability of coming from S_1 = 0.9998506619649576\n",
      "Probability of coming from S_2 = 0.0001493380350423339\n",
      "\n",
      "9.51539986467853\n",
      "Probability of coming from S_1 = 0.9999861472199869\n",
      "Probability of coming from S_2 = 1.3852780013070429e-05\n",
      "\n",
      "8.234952780475739\n",
      "Probability of coming from S_1 = 0.9972967819153027\n",
      "Probability of coming from S_2 = 0.0027032180846972786\n",
      "\n",
      "6.546647025697315\n",
      "Probability of coming from S_1 = 0.20969534106794396\n",
      "Probability of coming from S_2 = 0.790304658932056\n",
      "\n",
      "7.1395207186394956\n",
      "Probability of coming from S_1 = 0.7774839825169649\n",
      "Probability of coming from S_2 = 0.222516017483035\n",
      "\n",
      "8.091439530657986\n",
      "Probability of coming from S_1 = 0.9950715755309424\n",
      "Probability of coming from S_2 = 0.004928424469057655\n",
      "\n",
      "4.80581993462951\n",
      "Probability of coming from S_1 = 0.00010910491731015063\n",
      "Probability of coming from S_2 = 0.9998908950826899\n",
      "\n",
      "6.205365331578056\n",
      "Probability of coming from S_1 = 0.05580389462324332\n",
      "Probability of coming from S_2 = 0.9441961053767566\n",
      "\n",
      "7.727777189157077\n",
      "Probability of coming from S_1 = 0.9774665134456881\n",
      "Probability of coming from S_2 = 0.022533486554311928\n",
      "\n"
     ]
    }
   ],
   "source": [
    "from scipy.stats import norm\n",
    "\n",
    "prob_s0_x = [] # P(S_0 | X_i)\n",
    "prob_s1_x = [] # P(S_1 | X_i)\n",
    "prob_x = [] # P(X_i)\n",
    "\n",
    "k = 2\n",
    "\n",
    "for p in data:\n",
    "    print(\"point = \", p)\n",
    "    pdf_i = []\n",
    "\n",
    "    for j in range(k):\n",
    "        # P(X_i | S_j)\n",
    "        pdf_i.append(norm.pdf(p, mean[j], np.sqrt(var[j])))\n",
    "        print(\"probability of observing that point if it came from cluster \" + str(j) + \" = \", pdf_i[j])\n",
    "        # P(S_j) already computed\n",
    "        # prob_s[j]\n",
    "\n",
    "    # pdf_i[0] is P(X_i | S_0)\n",
    "\n",
    "    # P(X_i) = P(S_0)P(X_i | S_0) + P(S_1)P(X_i | S_1)\n",
    "    prob_x = prob_s[0] * pdf_i[0] + prob_s[1] * pdf_i[1]\n",
    "\n",
    "    # P(S_j | X_i) = P(X_i | S_j)P(S_j) / P(X_i)\n",
    "    prob_s0_x.append( prob_s[0] * pdf_i[0] / prob_x)\n",
    "    prob_s1_x.append( prob_s[1] * pdf_i[1] / prob_x)\n",
    "\n",
    "probs = zip(data, prob_s0_x, prob_s1_x)\n",
    "for p in probs:\n",
    "    print(p[0])\n",
    "    print(\"Probability of coming from S_1 = \" + str(p[1]))\n",
    "    print(\"Probability of coming from S_2 = \" + str(p[2]))\n",
    "    print()\n"
   ]
  },
  {
   "cell_type": "markdown",
   "metadata": {},
   "source": [
    "f) Having computed `P(S_j | X_i)`, update the estimates of `mean_j`, `var_j`, and `P(S_j)`. How different are these values from the original ones you got from K means? briefly comment."
   ]
  },
  {
   "cell_type": "code",
   "execution_count": 46,
   "metadata": {},
   "outputs": [
    {
     "name": "stdout",
     "output_type": "stream",
     "text": [
      "P(S_1) = 0.6012859758483273,  P(S_2) = 0.3987140241516728\n",
      "mean_1 = 8.23827591135901,  mean_2 = 5.6284617799556305\n",
      "var_1 = 0.6920694571889405,  var_2 = 0.762217526317313\n"
     ]
    }
   ],
   "source": [
    "prob_s = [sum(prob_s0_x)/len(prob_s0_x), sum(prob_s1_x)/len(prob_s1_x)]\n",
    "mean = [sum([x[0] * x[1] for x in zip(prob_s0_x, data)])/sum(prob_s0_x), sum([x[0] * x[1] for x in zip(prob_s1_x, data)])/sum(prob_s1_x)]\n",
    "var = [sum([x[0] * ((x[1] - mean[0])**2) for x in zip(prob_s0_x, data)])/sum(prob_s0_x) , sum([x[0] * ((x[1] - mean[1])**2) for x in zip(prob_s1_x, data)])/sum(prob_s1_x)]\n",
    "\n",
    "print(\"P(S_1) = \" + str(prob_s[0]) + \",  P(S_2) = \" + str(prob_s[1]))\n",
    "print(\"mean_1 = \" + str(mean[0]) + \",  mean_2 = \" + str(mean[1]))\n",
    "print(\"var_1 = \" + str(var[0]) + \",  var_2 = \" + str(var[1]))"
   ]
  },
  {
   "cell_type": "markdown",
   "metadata": {},
   "source": [
    "Based on the results, the values are almost the same as the original ones got from K means, except the variances are larger and closer to the true values."
   ]
  },
  {
   "cell_type": "markdown",
   "metadata": {},
   "source": [
    "g) Update `P(S_j | X_i)`. Comment on any differences or lack thereof you observe."
   ]
  },
  {
   "cell_type": "code",
   "execution_count": 47,
   "metadata": {},
   "outputs": [
    {
     "name": "stdout",
     "output_type": "stream",
     "text": [
      "point =  4.777304664122473\n",
      "probability of observing that point if it came from cluster 0 =  8.364805709225003e-05\n",
      "probability of observing that point if it came from cluster 1 =  0.2841041991996034\n",
      "point =  8.932837127756494\n",
      "probability of observing that point if it came from cluster 0 =  0.33843100660633313\n",
      "probability of observing that point if it came from cluster 1 =  0.0003541597737932652\n",
      "point =  9.51539986467853\n",
      "probability of observing that point if it came from cluster 0 =  0.14759445592860257\n",
      "probability of observing that point if it came from cluster 1 =  2.2682377019105992e-05\n",
      "point =  8.234952780475739\n",
      "probability of observing that point if it came from cluster 0 =  0.4795476413798386\n",
      "probability of observing that point if it came from cluster 1 =  0.005301446210960466\n",
      "point =  6.546647025697315\n",
      "probability of observing that point if it came from cluster 0 =  0.06066838304767969\n",
      "probability of observing that point if it came from cluster 1 =  0.26283976046940927\n",
      "point =  7.1395207186394956\n",
      "probability of observing that point if it came from cluster 0 =  0.20046485271079031\n",
      "probability of observing that point if it came from cluster 1 =  0.10218431586842429\n",
      "point =  8.091439530657986\n",
      "probability of observing that point if it came from cluster 0 =  0.4721393080818372\n",
      "probability of observing that point if it came from cluster 1 =  0.008543999283727914\n",
      "point =  4.80581993462951\n",
      "probability of observing that point if it came from cluster 0 =  9.641220544721401e-05\n",
      "probability of observing that point if it came from cluster 1 =  0.2931399856719193\n",
      "point =  6.205365331578056\n",
      "probability of observing that point if it came from cluster 0 =  0.024217551211467358\n",
      "probability of observing that point if it came from cluster 1 =  0.3673284456476088\n",
      "point =  7.727777189157077\n",
      "probability of observing that point if it came from cluster 0 =  0.39725121393397056\n",
      "probability of observing that point if it came from cluster 1 =  0.02537055501961252\n",
      "4.777304664122473\n",
      "Probability of coming from S_1 = 0.00044381806712222343\n",
      "Probability of coming from S_2 = 0.9995561819328778\n",
      "\n",
      "8.932837127756494\n",
      "Probability of coming from S_1 = 0.9993065610027618\n",
      "Probability of coming from S_2 = 0.0006934389972381355\n",
      "\n",
      "9.51539986467853\n",
      "Probability of coming from S_1 = 0.9998981045709193\n",
      "Probability of coming from S_2 = 0.00010189542908074134\n",
      "\n",
      "8.234952780475739\n",
      "Probability of coming from S_1 = 0.9927226881717055\n",
      "Probability of coming from S_2 = 0.00727731182829448\n",
      "\n",
      "6.546647025697315\n",
      "Probability of coming from S_1 = 0.2582094871505045\n",
      "Probability of coming from S_2 = 0.7417905128494955\n",
      "\n",
      "7.1395207186394956\n",
      "Probability of coming from S_1 = 0.7473799215732595\n",
      "Probability of coming from S_2 = 0.2526200784267405\n",
      "\n",
      "8.091439530657986\n",
      "Probability of coming from S_1 = 0.9881425559457641\n",
      "Probability of coming from S_2 = 0.011857444054235984\n",
      "\n",
      "4.80581993462951\n",
      "Probability of coming from S_1 = 0.0004957482208041709\n",
      "Probability of coming from S_2 = 0.9995042517791959\n",
      "\n",
      "6.205365331578056\n",
      "Probability of coming from S_1 = 0.0904335655188934\n",
      "Probability of coming from S_2 = 0.9095664344811066\n",
      "\n",
      "7.727777189157077\n",
      "Probability of coming from S_1 = 0.9593713926299466\n",
      "Probability of coming from S_2 = 0.04062860737005338\n",
      "\n"
     ]
    }
   ],
   "source": [
    "prob_s0_x = [] # P(S_0 | X_i)\n",
    "prob_s1_x = [] # P(S_1 | X_i)\n",
    "prob_x = [] # P(X_i)\n",
    "\n",
    "k = 2\n",
    "\n",
    "for p in data:\n",
    "    print(\"point = \", p)\n",
    "    pdf_i = []\n",
    "\n",
    "    for j in range(k):\n",
    "        # P(X_i | S_j)\n",
    "        pdf_i.append(norm.pdf(p, mean[j], np.sqrt(var[j])))\n",
    "        print(\"probability of observing that point if it came from cluster \" + str(j) + \" = \", pdf_i[j])\n",
    "        # P(S_j) already computed\n",
    "        # prob_s[j]\n",
    "\n",
    "    # pdf_i[0] is P(X_i | S_0)\n",
    "\n",
    "    # P(X_i) = P(S_0)P(X_i | S_0) + P(S_1)P(X_i | S_1)\n",
    "    prob_x = prob_s[0] * pdf_i[0] + prob_s[1] * pdf_i[1]\n",
    "\n",
    "    # P(S_j | X_i) = P(X_i | S_j)P(S_j) / P(X_i)\n",
    "    prob_s0_x.append( prob_s[0] * pdf_i[0] / prob_x)\n",
    "    prob_s1_x.append( prob_s[1] * pdf_i[1] / prob_x)\n",
    "\n",
    "probs = zip(data, prob_s0_x, prob_s1_x)\n",
    "for p in probs:\n",
    "    print(p[0])\n",
    "    print(\"Probability of coming from S_1 = \" + str(p[1]))\n",
    "    print(\"Probability of coming from S_2 = \" + str(p[2]))\n",
    "    print()"
   ]
  },
  {
   "cell_type": "markdown",
   "metadata": {},
   "source": [
    "There aren't much differences. Maybe this is because our data sample is too small, with only 10 points."
   ]
  },
  {
   "cell_type": "markdown",
   "metadata": {},
   "source": [
    "h) Use `P(S_j | X_i)` to create a hard assignment - label each point as belonging to a specific cluster (0 or 1)"
   ]
  },
  {
   "cell_type": "code",
   "execution_count": 48,
   "metadata": {},
   "outputs": [
    {
     "name": "stdout",
     "output_type": "stream",
     "text": [
      "Cluster assignments for each data point:\n",
      "Data point 4.777304664122473: Cluster 1\n",
      "Data point 8.932837127756494: Cluster 0\n",
      "Data point 9.51539986467853: Cluster 0\n",
      "Data point 8.234952780475739: Cluster 0\n",
      "Data point 6.546647025697315: Cluster 1\n",
      "Data point 7.1395207186394956: Cluster 0\n",
      "Data point 8.091439530657986: Cluster 0\n",
      "Data point 4.80581993462951: Cluster 1\n",
      "Data point 6.205365331578056: Cluster 1\n",
      "Data point 7.727777189157077: Cluster 0\n"
     ]
    }
   ],
   "source": [
    "updated_probs = zip(prob_s0_x, prob_s1_x)\n",
    "\n",
    "def hard_assignment(updated_probs):\n",
    "    \n",
    "    cluster_assignments = []\n",
    "    \n",
    "    for probs in updated_probs:\n",
    "        cluster_label = np.argmax(probs)\n",
    "        cluster_assignments.append(cluster_label)\n",
    "    \n",
    "    return np.array(cluster_assignments)\n",
    "\n",
    "cluster_labels = hard_assignment(updated_probs)\n",
    "\n",
    "print(\"Cluster assignments for each data point:\")\n",
    "for i, label in enumerate(cluster_labels):\n",
    "    print(f\"Data point {data[i]}: Cluster {label}\")\n"
   ]
  }
 ],
 "metadata": {
  "kernelspec": {
   "display_name": "Python 3",
   "language": "python",
   "name": "python3"
  },
  "language_info": {
   "codemirror_mode": {
    "name": "ipython",
    "version": 3
   },
   "file_extension": ".py",
   "mimetype": "text/x-python",
   "name": "python",
   "nbconvert_exporter": "python",
   "pygments_lexer": "ipython3",
   "version": "3.12.1"
  },
  "orig_nbformat": 4,
  "vscode": {
   "interpreter": {
    "hash": "e7370f93d1d0cde622a1f8e1c04877d8463912d04d973331ad4851f04de6915a"
   }
  }
 },
 "nbformat": 4,
 "nbformat_minor": 2
}
