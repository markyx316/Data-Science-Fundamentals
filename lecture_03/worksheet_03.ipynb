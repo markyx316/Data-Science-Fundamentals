{
 "cells": [
  {
   "attachments": {},
   "cell_type": "markdown",
   "metadata": {},
   "source": [
    "# Worksheet 03\n",
    "\n",
    "Name: Youxuan Ma\n",
    "\n",
    "UID: U23330522\n",
    "\n",
    "### Topics\n",
    "\n",
    "- Intro to DS\n",
    "\n",
    "### Linear Algebra Review\n",
    "\n",
    "If you need a linear algebra review, please read through the [following pdf](https://github.com/gallettilance/CS506-Spring2023/raw/main/worksheets/lecture_03_linear_algebra_review.pdf) before next class\n",
    "\n",
    "### Intro to Data Science\n",
    "\n",
    "a) what property must a hypothesis have?"
   ]
  },
  {
   "cell_type": "markdown",
   "metadata": {},
   "source": [
    "Here are some essential properties I summarized:\n",
    "1. Testability.\n",
    "2. Falsifiability.\n",
    "3. Clarity and Precision.\n",
    "4. Specificity.\n",
    "5. Consistency.\n",
    "6. Predictive Power."
   ]
  },
  {
   "cell_type": "markdown",
   "metadata": {},
   "source": [
    "b) what examples would you have wanted to try?"
   ]
  },
  {
   "cell_type": "markdown",
   "metadata": {},
   "source": [
    "I would like to try (20, 40, 60) to see if the rule allows for numbers greater than 10."
   ]
  },
  {
   "cell_type": "markdown",
   "metadata": {},
   "source": [
    "c) Poll 1"
   ]
  },
  {
   "cell_type": "markdown",
   "metadata": {},
   "source": [
    "I chose the option B for this poll, trying to guess the underlying rules.\n",
    "\n",
    "However, the professor explained that this is an impossible task, and one reason is that there may be infinitely many rules that match the examples provided."
   ]
  },
  {
   "cell_type": "markdown",
   "metadata": {},
   "source": [
    "d) Given the hypothesis (x, 2x, 3x), for each of the following, determine whether they are positive or negative examples:\n",
    "\n",
    "- (2, 4, 6)\n",
    "- (6, 8 , 10)\n",
    "- (1, 3, 5)"
   ]
  },
  {
   "cell_type": "markdown",
   "metadata": {},
   "source": [
    "(2, 4, 6) is a positive example.\n",
    "\n",
    "(6, 8, 10) and (1, 3, 5) are negative examples."
   ]
  },
  {
   "cell_type": "markdown",
   "metadata": {},
   "source": [
    "e) Poll 2"
   ]
  },
  {
   "cell_type": "markdown",
   "metadata": {},
   "source": [
    "I chose C for this poll, since I want to try out some possible negative examples."
   ]
  },
  {
   "attachments": {},
   "cell_type": "markdown",
   "metadata": {},
   "source": [
    "f) Describe steps of a Data Science Workflow"
   ]
  },
  {
   "cell_type": "markdown",
   "metadata": {},
   "source": [
    "The sequential steps are:\n",
    "1. Process Data.\n",
    "2. Explore Data.\n",
    "3. Extract Features.\n",
    "4. Create Model.\n",
    "\n",
    "**Note:** The workflow is iterative. As new insights are gained or challenges encountered in later stages, we may need to go back and adjust the data processing to achieve better modeling results. "
   ]
  },
  {
   "attachments": {},
   "cell_type": "markdown",
   "metadata": {},
   "source": [
    "g) Give a real world example for each of the following data types:\n",
    "\n",
    "- record\n",
    "- graph\n",
    "- image\n",
    "- text"
   ]
  },
  {
   "cell_type": "markdown",
   "metadata": {},
   "source": [
    "1. **Record**: A real-world example would be a patient's health record in a hospital's database system. Each record might contain fields for the patient ID, name, date of birth, blood type, medical history, current medications, and etc.\n",
    "\n",
    "2. **Graph**: A real-world example would be the network of roads and intersections in a city's traffic system, where intersections are nodes, and the roads connecting them are edges.\n",
    "\n",
    "3. **Image**: A real-world example would be satellite imagery used in geographical information systems to analyze land usage patterns, urban sprawl, or the effects of natural disasters.\n",
    "\n",
    "4. **Text**: A real-world example would be customer reviews on an e-commerce platform. Each review consists of unstructured text that can express opinions about products or services."
   ]
  },
  {
   "attachments": {},
   "cell_type": "markdown",
   "metadata": {},
   "source": [
    "h) Give a real world example of unsupervised learning"
   ]
  },
  {
   "cell_type": "markdown",
   "metadata": {},
   "source": [
    "An example would be Email Spam Detection.\n",
    "\n",
    "In email spam detection, a model is trained on a labeled dataset where emails are marked as \"spam\" or \"not spam.\" The learning algorithm uses features like the presence of certain keywords, the sender's email address, the frequency of certain words, and so on, to learn a classification rule. When a new email arrives, the model uses this rule to predict whether it's spam."
   ]
  },
  {
   "attachments": {},
   "cell_type": "markdown",
   "metadata": {},
   "source": [
    "i) Give a real world example of supervised learning"
   ]
  },
  {
   "cell_type": "markdown",
   "metadata": {},
   "source": [
    "An Example would be Customer Segmentation:\n",
    "\n",
    "A business might use unsupervised learning to segment its customers into distinct groups without pre-labeled categories. The algorithm analyzes the customers' purchase histories, browsing behaviors, and engagement metrics to find patterns and group customers with similar behaviors together. This is unsupervised because there are no explicit labels given to the algorithm; it identifies structure and patterns in the data on its own. "
   ]
  }
 ],
 "metadata": {
  "kernelspec": {
   "display_name": "Python 3",
   "language": "python",
   "name": "python3"
  },
  "language_info": {
   "codemirror_mode": {
    "name": "ipython",
    "version": 3
   },
   "file_extension": ".py",
   "mimetype": "text/x-python",
   "name": "python",
   "nbconvert_exporter": "python",
   "pygments_lexer": "ipython3",
   "version": "3.11.1"
  },
  "orig_nbformat": 4,
  "vscode": {
   "interpreter": {
    "hash": "e7370f93d1d0cde622a1f8e1c04877d8463912d04d973331ad4851f04de6915a"
   }
  }
 },
 "nbformat": 4,
 "nbformat_minor": 2
}
