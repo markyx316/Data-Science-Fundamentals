{
 "cells": [
  {
   "attachments": {},
   "cell_type": "markdown",
   "metadata": {},
   "source": [
    "# Worksheet 04\n",
    "\n",
    "Name: Youxuan Ma\n",
    "\n",
    "UID: U23330522\n",
    "\n",
    "### Topics\n",
    "\n",
    "- Distance & Similarity"
   ]
  },
  {
   "cell_type": "markdown",
   "metadata": {},
   "source": [
    "### Distance & Similarity\n",
    "\n",
    "#### Part 1\n",
    "\n",
    "a) In the minkowski distance, describe what the parameters p and d are."
   ]
  },
  {
   "cell_type": "markdown",
   "metadata": {},
   "source": [
    "1. **$p$ (the order of the Minkowski metric):** This parameter determines the type of distance measurement that the Minkowski formula will compute. It's a real number greater than or equal to 1 ($p \\geq 1$), where:\n",
    "   - When $p = 1$, the Minkowski distance becomes the Manhattan (or L1) distance.\n",
    "   - When $p = 2$, it becomes the Euclidean (or L2) distance.\n",
    "   - As $p$ approaches infinity ($\\infty$), the Minkowski distance converges to the Chebyshev distance.\n",
    "   \n",
    "   The formula for the Minkowski distance between two points $x$ and $y$ in a $d$-dimensional space is given by:\n",
    "   $$\n",
    "   D(x, y) = \\left( \\sum_{i=1}^{d} |x_i - y_i|^p \\right)^{\\frac{1}{p}}\n",
    "   $$\n",
    "2. **$d$ (the dimensionality of the points):** This parameter indicates the number of dimensions or attributes that each point $x$ and $y$ has. It's used to sum over the $d$ dimensions in the vector space where the points exist. In the formula, $d$ represents the total number of components (or features) in the vectors $x$ and $y$, and $x_i$ and $y_i$ are the components of $x$ and $y$ in the $i^th$ dimension, respectively."
   ]
  },
  {
   "cell_type": "markdown",
   "metadata": {},
   "source": [
    "b) In your own words describe the difference between the Euclidean distance and the Manhattan distance."
   ]
  },
  {
   "cell_type": "markdown",
   "metadata": {},
   "source": [
    "- The Euclidean distance between two points is the length of the shortest path connecting them, which is a straight line in the geometric sense, resembling how we typically measure distances in the physical world.\n",
    "\n",
    "- Whereas, the Manhattan distance measures the distance between two points by only allowing travel along orthogonal (right-angled) paths, similar to navigating the blocks of a grid-like city. "
   ]
  },
  {
   "attachments": {},
   "cell_type": "markdown",
   "metadata": {},
   "source": [
    "Consider A = (0, 0) and B = (1, 1). When:\n",
    "\n",
    "- p = 1, d(A, B) = 2\n",
    "- p = 2, d(A, B) = $\\sqrt{2} = 1.41$\n",
    "- p = 3, d(A, B) = $2^{1/3} = 1.26$\n",
    "- p = 4, d(A, B) = $2^{1/4} = 1.19$\n",
    "\n",
    "c) Describe what you think distance would look like when p is very large."
   ]
  },
  {
   "cell_type": "markdown",
   "metadata": {},
   "source": [
    "When $p$ becomes very large, approaching infinity, the distance metric starts to resemble the Chebyshev distance, focusing solely on the maximum difference across all dimensions and ignoring the smaller ones. \n",
    "\n",
    "Therefore, when $p$ is very large, the distance between points A and B would be equivalent to the largest single-coordinate difference between them, which is $1$ in this case."
   ]
  },
  {
   "cell_type": "markdown",
   "metadata": {},
   "source": [
    "d) Is the minkowski distance still a distance function when p < 1? Expain why / why not."
   ]
  },
  {
   "cell_type": "markdown",
   "metadata": {},
   "source": [
    "It would not be a valid distance function when $p < 1$, since it violates the triangle inequality property in that case:\n",
    "- When $p < 1$, raising the absolute differences $|x_i - y_i|$ to a power less than 1 actually reverses the effect of averaging differences across dimensions. Instead of smoothing out the differences, it amplifies the smaller differences disproportionately compared to larger differences. Therefore, this can lead to situations where the direct path between two points is considered longer than an indirect path through a third point, directly contradicting the triangle inequality."
   ]
  },
  {
   "cell_type": "markdown",
   "metadata": {},
   "source": [
    "e) when would you use cosine similarity over the euclidan distance?"
   ]
  },
  {
   "cell_type": "markdown",
   "metadata": {},
   "source": [
    "I would use Cosine similarity, instead of Euclidean distance, for assessing similarity in orientation or pattern of data points in high-dimensional spaces, particularly for text and similarity-based tasks. \n",
    "\n",
    "On the other hand, I would use Euclidean for spatial analyses and algorithms that rely on the physical distance between points."
   ]
  },
  {
   "cell_type": "markdown",
   "metadata": {},
   "source": [
    "f) what does the jaccard distance account for that the manhattan distance doesn't?"
   ]
  },
  {
   "cell_type": "markdown",
   "metadata": {},
   "source": [
    "Jaccard distance accounts for the Presence and Absence of Features, and it is inherently designed for binary or categorical data. \n",
    "- It uses set operations (intersection and union) to assess similarity and dissimilarity, which is fundamentally different from the arithmetic operation (sum of absolute differences) used by the Manhattan distance.\n",
    "- It inherently accounts for the size of the sets by normalizing the intersection by the union of the sets, which is something the Manhattan distance does not inherently do."
   ]
  },
  {
   "attachments": {},
   "cell_type": "markdown",
   "metadata": {},
   "source": [
    "#### Part 2\n",
    "\n",
    "Consider the following two sentences:"
   ]
  },
  {
   "cell_type": "code",
   "execution_count": 30,
   "metadata": {},
   "outputs": [],
   "source": [
    "s1 = \"hello my name is Alice\"  \n",
    "s2 = \"hello my name is Bob\""
   ]
  },
  {
   "cell_type": "markdown",
   "metadata": {},
   "source": [
    "using the union of words from both sentences, we can represent each sentence as a vector. Each element of the vector represents the presence or absence of the word at that index.\n",
    "\n",
    "In this example, the union of words is (\"hello\", \"my\", \"name\", \"is\", \"Alice\", \"Bob\") so we can represent the above sentences as such:"
   ]
  },
  {
   "cell_type": "code",
   "execution_count": 31,
   "metadata": {},
   "outputs": [],
   "source": [
    "v1 = [1,    1, 1,   1, 1,    0]\n",
    "#     hello my name is Alice\n",
    "v2 = [1,    1, 1,   1, 0, 1]\n",
    "#     hello my name is    Bob"
   ]
  },
  {
   "attachments": {},
   "cell_type": "markdown",
   "metadata": {},
   "source": [
    "Programmatically, we can do the following:"
   ]
  },
  {
   "cell_type": "code",
   "execution_count": 32,
   "metadata": {},
   "outputs": [
    {
     "name": "stdout",
     "output_type": "stream",
     "text": [
      "['is', 'name', 'Bob', 'Alice', 'hello', 'my']\n",
      "[1, 1, 0, 1, 1, 1]\n"
     ]
    }
   ],
   "source": [
    "corpus = [s1, s2]\n",
    "all_words = list(set([item for x in corpus for item in x.split()]))\n",
    "print(all_words)\n",
    "v1 = [1 if x in s1 else 0 for x in all_words]\n",
    "print(v1)"
   ]
  },
  {
   "cell_type": "markdown",
   "metadata": {},
   "source": [
    "Let's add a new sentence to our corpus:"
   ]
  },
  {
   "cell_type": "code",
   "execution_count": 33,
   "metadata": {},
   "outputs": [],
   "source": [
    "s3 = \"hi my name is Claude\"\n",
    "corpus.append(s3)"
   ]
  },
  {
   "cell_type": "markdown",
   "metadata": {},
   "source": [
    "a) What is the new union of words used to represent s1, s2, and s3?"
   ]
  },
  {
   "cell_type": "code",
   "execution_count": 34,
   "metadata": {},
   "outputs": [
    {
     "name": "stdout",
     "output_type": "stream",
     "text": [
      "The new union of words:  ['is', 'name', 'Bob', 'hi', 'Alice', 'hello', 'my', 'Claude']\n"
     ]
    }
   ],
   "source": [
    "all_words = list(set(word for sentence in corpus for word in sentence.split()))\n",
    "print(\"The new union of words: \", all_words)"
   ]
  },
  {
   "attachments": {},
   "cell_type": "markdown",
   "metadata": {},
   "source": [
    "b) Represent s1, s2, and s3 as vectors as above, using this new set of words."
   ]
  },
  {
   "cell_type": "code",
   "execution_count": 35,
   "metadata": {},
   "outputs": [
    {
     "name": "stdout",
     "output_type": "stream",
     "text": [
      "Vector for s1: [1, 1, 0, 0, 1, 1, 1, 0]\n",
      "Vector for s2: [1, 1, 1, 0, 0, 1, 1, 0]\n",
      "Vector for s3: [1, 1, 0, 1, 0, 0, 1, 1]\n"
     ]
    }
   ],
   "source": [
    "vectors = [[1 if word in sentence.split() else 0 for word in all_words] for sentence in corpus]\n",
    "\n",
    "for i, vector in enumerate(vectors, start=1):\n",
    "    print(f\"Vector for s{i}:\", vector)"
   ]
  },
  {
   "cell_type": "markdown",
   "metadata": {},
   "source": [
    "c) Write a function that computes the manhattan distance between two vectors. Which pair of vectors are the most similar under that distance function?"
   ]
  },
  {
   "cell_type": "code",
   "execution_count": 36,
   "metadata": {},
   "outputs": [
    {
     "name": "stdout",
     "output_type": "stream",
     "text": [
      "The most similar pair of vectors under the Manhattan distance is the sentences (1, 2), with a Manhattan distance of 2.\n"
     ]
    }
   ],
   "source": [
    "def manhattan_distance(vec1, vec2):\n",
    "    if len(vec1) != len(vec2):\n",
    "        raise ValueError(\"Vectors must be of the same length.\")\n",
    "    distance = sum(abs(a - b) for a, b in zip(vec1, vec2))\n",
    "    return distance\n",
    "\n",
    "distances = {}\n",
    "for i in range(len(vectors)):\n",
    "    for j in range(i+1, len(vectors)):\n",
    "        distance = manhattan_distance(vectors[i], vectors[j])\n",
    "        distances[(i+1, j+1)] = distance\n",
    "\n",
    "most_similar_pair = min(distances, key=distances.get)\n",
    "most_similar_distance = distances[most_similar_pair]\n",
    "\n",
    "print(f\"The most similar pair of vectors under the Manhattan distance is the sentences {most_similar_pair}, with a Manhattan distance of {most_similar_distance}.\")\n"
   ]
  },
  {
   "cell_type": "markdown",
   "metadata": {},
   "source": [
    "As show above by the code, the most similar pair of vectors under the Manhattan distance is the pair s1 and s2."
   ]
  },
  {
   "cell_type": "markdown",
   "metadata": {},
   "source": [
    "d) Create a matrix of all these vectors (row major) and add the following sentences in vector form:\n",
    "\n",
    "- \"hi Alice\"\n",
    "- \"hello Claude\"\n",
    "- \"Bob my name is Claude\"\n",
    "- \"hi Claude my name is Alice\"\n",
    "- \"hello Bob\""
   ]
  },
  {
   "cell_type": "code",
   "execution_count": 37,
   "metadata": {},
   "outputs": [
    {
     "name": "stdout",
     "output_type": "stream",
     "text": [
      "Vector for sentence 1: [1, 1, 0, 0, 1, 1, 1, 0]\n",
      "Vector for sentence 2: [1, 1, 1, 0, 0, 1, 1, 0]\n",
      "Vector for sentence 3: [1, 1, 0, 1, 0, 0, 1, 1]\n",
      "Vector for sentence 4: [0, 0, 0, 1, 1, 0, 0, 0]\n",
      "Vector for sentence 5: [0, 0, 0, 0, 0, 1, 0, 1]\n",
      "Vector for sentence 6: [1, 1, 1, 0, 0, 0, 1, 1]\n",
      "Vector for sentence 7: [1, 1, 0, 1, 1, 0, 1, 1]\n",
      "Vector for sentence 8: [0, 0, 1, 0, 0, 1, 0, 0]\n"
     ]
    }
   ],
   "source": [
    "new_sentences = [\n",
    "    \"hi Alice\",\n",
    "    \"hello Claude\",\n",
    "    \"Bob my name is Claude\",\n",
    "    \"hi Claude my name is Alice\",\n",
    "    \"hello Bob\"\n",
    "]\n",
    "corpus.extend(new_sentences)\n",
    "\n",
    "all_words = list(set(word for sentence in corpus for word in sentence.split()))\n",
    "\n",
    "vectors = [[1 if word in sentence.split() else 0 for word in all_words] for sentence in corpus]\n",
    "\n",
    "for i, vector in enumerate(vectors, start=1):\n",
    "    print(f\"Vector for sentence {i}: {vector}\")\n"
   ]
  },
  {
   "cell_type": "markdown",
   "metadata": {},
   "source": [
    "e) How many rows and columns does this matrix have?"
   ]
  },
  {
   "cell_type": "code",
   "execution_count": 38,
   "metadata": {},
   "outputs": [
    {
     "name": "stdout",
     "output_type": "stream",
     "text": [
      "This matrix has 8 rows and 8 columns.\n"
     ]
    }
   ],
   "source": [
    "# Determine the number of rows and columns of the matrix\n",
    "num_rows = len(vectors)  # The number of rows is the number of vectors\n",
    "num_columns = len(vectors[0]) if vectors else 0  # The number of columns is the length of any vector\n",
    "\n",
    "print(f\"This matrix has {num_rows} rows and {num_columns} columns.\")\n"
   ]
  },
  {
   "attachments": {},
   "cell_type": "markdown",
   "metadata": {},
   "source": [
    "f) When using the Manhattan distance, which two sentences are the most similar?"
   ]
  },
  {
   "cell_type": "code",
   "execution_count": 39,
   "metadata": {},
   "outputs": [
    {
     "name": "stdout",
     "output_type": "stream",
     "text": [
      "The most similar pair of sentences under the Manhattan distance is: \n",
      "'hi my name is Claude' and 'hi Claude my name is Alice', \n",
      "with a distance of 1.\n"
     ]
    }
   ],
   "source": [
    "def manhattan_distance(vec1, vec2):\n",
    "    if len(vec1) != len(vec2):\n",
    "        raise ValueError(\"Vectors must be of the same length.\")\n",
    "    distance = sum(abs(a - b) for a, b in zip(vec1, vec2))\n",
    "    return distance\n",
    "\n",
    "distances = {}\n",
    "\n",
    "for i in range(len(vectors)):\n",
    "    for j in range(i+1, len(vectors)):\n",
    "        distance = manhattan_distance(vectors[i], vectors[j])\n",
    "        distances[(i, j)] = distance\n",
    "\n",
    "most_similar_pair = min(distances, key=distances.get)\n",
    "most_similar_distance = distances[most_similar_pair]\n",
    "\n",
    "sentence1 = corpus[most_similar_pair[0]]\n",
    "sentence2 = corpus[most_similar_pair[1]]\n",
    "\n",
    "print(f\"The most similar pair of sentences under the Manhattan distance is: \\n'{sentence1}' and '{sentence2}', \\nwith a distance of {most_similar_distance}.\")\n"
   ]
  },
  {
   "cell_type": "markdown",
   "metadata": {},
   "source": [
    "#### Part 3 Challenge"
   ]
  },
  {
   "cell_type": "markdown",
   "metadata": {},
   "source": [
    "Given a set of graphs $\\mathcal{G}$, each graph $G \\in \\mathcal{G}$ is defined over the same set of nodes $V$. The graphs are represented by their adjacency matrices, which are 2D arrays where each element indicates whether a pair of nodes is connected by an edge.\n",
    "\n",
    "Your task is to compute the pairwise distances between these graphs based on a specific distance metric. The distance $d(G, G')$ between two graphs $G = (V, E)$ and $G' = (V, E')$ is defined as the sum of the number of edges in $G$ but not in $G'$, and the number of edges in $G'$ but not in $G$. Mathematically, this can be expressed as:\n",
    "\n",
    "$$\n",
    "d(G, G') = |E \\setminus E'| + |E' \\setminus E|.\n",
    "$$\n",
    "\n",
    "##### Requirements:\n",
    "1. **Input**: Should take a list of 2D numpy arrays as input. Each array represents the adjacency matrix of a graph.\n",
    "\n",
    "2. **Output**: Should output a pairwise distance matrix. If there are $n$ graphs in the input list, the output should be an $n \\times n$ matrix where the entry at position $(i, j)$ represents the distance between the $i^{th}$ and $j^{th}$ graph."
   ]
  }
 ],
 "metadata": {
  "kernelspec": {
   "display_name": "Python 3",
   "language": "python",
   "name": "python3"
  },
  "language_info": {
   "codemirror_mode": {
    "name": "ipython",
    "version": 3
   },
   "file_extension": ".py",
   "mimetype": "text/x-python",
   "name": "python",
   "nbconvert_exporter": "python",
   "pygments_lexer": "ipython3",
   "version": "3.10.0"
  },
  "orig_nbformat": 4,
  "vscode": {
   "interpreter": {
    "hash": "76ca05dc3ea24b2e3b98cdb7774adfbb40773424bf5109b477fd793f623715af"
   }
  }
 },
 "nbformat": 4,
 "nbformat_minor": 2
}
